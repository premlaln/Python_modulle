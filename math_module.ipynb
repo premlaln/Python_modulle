{
 "cells": [
  {
   "cell_type": "code",
   "execution_count": 50,
   "id": "726c0fdf",
   "metadata": {},
   "outputs": [],
   "source": [
    "import math"
   ]
  },
  {
   "cell_type": "code",
   "execution_count": 51,
   "id": "f1c7cbfa",
   "metadata": {},
   "outputs": [
    {
     "data": {
      "text/plain": [
       "['__doc__',\n",
       " '__loader__',\n",
       " '__name__',\n",
       " '__package__',\n",
       " '__spec__',\n",
       " 'acos',\n",
       " 'acosh',\n",
       " 'asin',\n",
       " 'asinh',\n",
       " 'atan',\n",
       " 'atan2',\n",
       " 'atanh',\n",
       " 'ceil',\n",
       " 'comb',\n",
       " 'copysign',\n",
       " 'cos',\n",
       " 'cosh',\n",
       " 'degrees',\n",
       " 'dist',\n",
       " 'e',\n",
       " 'erf',\n",
       " 'erfc',\n",
       " 'exp',\n",
       " 'expm1',\n",
       " 'fabs',\n",
       " 'factorial',\n",
       " 'floor',\n",
       " 'fmod',\n",
       " 'frexp',\n",
       " 'fsum',\n",
       " 'gamma',\n",
       " 'gcd',\n",
       " 'hypot',\n",
       " 'inf',\n",
       " 'isclose',\n",
       " 'isfinite',\n",
       " 'isinf',\n",
       " 'isnan',\n",
       " 'isqrt',\n",
       " 'lcm',\n",
       " 'ldexp',\n",
       " 'lgamma',\n",
       " 'log',\n",
       " 'log10',\n",
       " 'log1p',\n",
       " 'log2',\n",
       " 'modf',\n",
       " 'nan',\n",
       " 'nextafter',\n",
       " 'perm',\n",
       " 'pi',\n",
       " 'pow',\n",
       " 'prod',\n",
       " 'radians',\n",
       " 'remainder',\n",
       " 'sin',\n",
       " 'sinh',\n",
       " 'sqrt',\n",
       " 'tan',\n",
       " 'tanh',\n",
       " 'tau',\n",
       " 'trunc',\n",
       " 'ulp']"
      ]
     },
     "execution_count": 51,
     "metadata": {},
     "output_type": "execute_result"
    }
   ],
   "source": [
    "# All the functions including in math module\n",
    "dir(math)"
   ]
  },
  {
   "cell_type": "code",
   "execution_count": 52,
   "id": "a1e10293",
   "metadata": {},
   "outputs": [
    {
     "name": "stdout",
     "output_type": "stream",
     "text": [
      "5\n"
     ]
    }
   ],
   "source": [
    "#program for return the ceiling of a number, the smallest integer greater than or equal to the number.\n",
    "print(math.ceil(4.654443))"
   ]
  },
  {
   "cell_type": "code",
   "execution_count": 53,
   "id": "f4007556",
   "metadata": {},
   "outputs": [
    {
     "name": "stdout",
     "output_type": "stream",
     "text": [
      "252\n"
     ]
    }
   ],
   "source": [
    "#Program for return the number of ways to choose k items from n items without repetition and without order.\n",
    "#math.comb(n,k). If k>n then the result is zero.\n",
    "print(math.comb(10,5))"
   ]
  },
  {
   "cell_type": "code",
   "execution_count": 54,
   "id": "19aeecde",
   "metadata": {},
   "outputs": [
    {
     "name": "stdout",
     "output_type": "stream",
     "text": [
      "-10.0\n"
     ]
    }
   ],
   "source": [
    "#math.copysign functions return a float with the magnitude of x but the sign of y.\n",
    "print(math.copysign(-10,-2))"
   ]
  },
  {
   "cell_type": "code",
   "execution_count": 55,
   "id": "efab7753",
   "metadata": {},
   "outputs": [
    {
     "name": "stdout",
     "output_type": "stream",
     "text": [
      "29.0\n"
     ]
    }
   ],
   "source": [
    "#math.fabs(x) returns the absolute value of x\n",
    "print(math.fabs(-29))"
   ]
  },
  {
   "cell_type": "code",
   "execution_count": 56,
   "id": "f8613d59",
   "metadata": {},
   "outputs": [
    {
     "name": "stdout",
     "output_type": "stream",
     "text": [
      "120\n"
     ]
    }
   ],
   "source": [
    "#math.factorial(n) returns the factorial as an integer\n",
    "print(math.factorial(5))"
   ]
  },
  {
   "cell_type": "code",
   "execution_count": 57,
   "id": "e4cf18e8",
   "metadata": {},
   "outputs": [
    {
     "data": {
      "text/plain": [
       "2"
      ]
     },
     "execution_count": 57,
     "metadata": {},
     "output_type": "execute_result"
    }
   ],
   "source": [
    "#math.floor(x) returns the floor of a integer that is less than or equal to x\n",
    "math.floor(2.3333)"
   ]
  },
  {
   "cell_type": "code",
   "execution_count": 58,
   "id": "e8b25b6a",
   "metadata": {},
   "outputs": [
    {
     "data": {
      "text/plain": [
       "-1.0"
      ]
     },
     "execution_count": 58,
     "metadata": {},
     "output_type": "execute_result"
    }
   ],
   "source": [
    "#math.fmod(x, y) returns the reminder of the division\n",
    "math.fmod(-9,4)"
   ]
  },
  {
   "cell_type": "code",
   "execution_count": 59,
   "id": "1453c4cf",
   "metadata": {},
   "outputs": [
    {
     "name": "stdout",
     "output_type": "stream",
     "text": [
      "(0.5625, 4)\n"
     ]
    }
   ],
   "source": [
    "#math.frexp(x) returns the mantissa and exponent of x as the pair (m,e). m is a float and e is an integer such that x==m*2*e exactly.\n",
    "#0.5 <= abs(m) < 1\n",
    "print(math.frexp(9))"
   ]
  },
  {
   "cell_type": "code",
   "execution_count": 60,
   "id": "3904ce36",
   "metadata": {},
   "outputs": [
    {
     "name": "stdout",
     "output_type": "stream",
     "text": [
      "0.9999999999999999\n",
      "1.0\n"
     ]
    }
   ],
   "source": [
    "#math.fsum(iterable) returns an accurate floating-point sum of values in the iterable.\n",
    "numbers = [0.1, 0.1, 0.1, 0.1, 0.1, 0.1, 0.1, 0.1, 0.1, 0.1]\n",
    "print(sum(numbers))\n",
    "print(math.fsum(numbers))"
   ]
  },
  {
   "cell_type": "code",
   "execution_count": 61,
   "id": "add51cde",
   "metadata": {},
   "outputs": [
    {
     "name": "stdout",
     "output_type": "stream",
     "text": [
      "4\n"
     ]
    }
   ],
   "source": [
    "#math.gcd(*integers) returns the greatest common divisor of the specified integer arguments.\n",
    "print(math.gcd(16,4,20))"
   ]
  },
  {
   "cell_type": "code",
   "execution_count": 62,
   "id": "b78b3f45",
   "metadata": {},
   "outputs": [
    {
     "name": "stdout",
     "output_type": "stream",
     "text": [
      "True\n",
      "False\n"
     ]
    }
   ],
   "source": [
    "#math.isinf(x) return True if x is a positive or negative infinity, and False otherwise.\n",
    "print(math.isinf(float('inf')))\n",
    "print(math.isinf(float(math.nan)))"
   ]
  },
  {
   "cell_type": "code",
   "execution_count": 63,
   "id": "060d2ef5",
   "metadata": {},
   "outputs": [
    {
     "data": {
      "text/plain": [
       "True"
      ]
     },
     "execution_count": 63,
     "metadata": {},
     "output_type": "execute_result"
    }
   ],
   "source": [
    "#math.isfinite(x) returns True if x is neither an infinity nor a NaN, and False otherwise. \n",
    "math.isfinite(math.pi)"
   ]
  },
  {
   "cell_type": "code",
   "execution_count": 64,
   "id": "2ae01214",
   "metadata": {},
   "outputs": [
    {
     "name": "stdout",
     "output_type": "stream",
     "text": [
      "False\n",
      "False\n",
      "True\n"
     ]
    }
   ],
   "source": [
    "#math.isnan(x) returns True if x is a NaN and False otherwise.\n",
    "print(math.isnan(10))\n",
    "print(math.isnan(float('inf')))\n",
    "print(math.isnan(float('nan')))"
   ]
  },
  {
   "cell_type": "code",
   "execution_count": 65,
   "id": "7ae2d587",
   "metadata": {},
   "outputs": [
    {
     "name": "stdout",
     "output_type": "stream",
     "text": [
      "12\n"
     ]
    }
   ],
   "source": [
    "# math.lcm(*integers) returns the least common multiple of the specified integer arguments.\n",
    "print(math.lcm(4,6))"
   ]
  },
  {
   "cell_type": "code",
   "execution_count": 66,
   "id": "d03607cb",
   "metadata": {},
   "outputs": [
    {
     "name": "stdout",
     "output_type": "stream",
     "text": [
      "40.0\n"
     ]
    }
   ],
   "source": [
    "#math.ldexp(x, i) returns x*(2**i).\n",
    "print(math.ldexp(10, 2))"
   ]
  },
  {
   "cell_type": "code",
   "execution_count": 67,
   "id": "1ec2a16a",
   "metadata": {},
   "outputs": [
    {
     "data": {
      "text/plain": [
       "(0.661999999999999, 34.0)"
      ]
     },
     "execution_count": 67,
     "metadata": {},
     "output_type": "execute_result"
    }
   ],
   "source": [
    "#math.modf(x) returns the fractional and integer of x\n",
    "math.modf(34.662)"
   ]
  },
  {
   "cell_type": "code",
   "execution_count": 68,
   "id": "1e02565a",
   "metadata": {},
   "outputs": [
    {
     "name": "stdout",
     "output_type": "stream",
     "text": [
      "360\n"
     ]
    }
   ],
   "source": [
    "#math.perm(n, k=None) permutation:returns the number of ways to choose k items from nitems without repetition and with order.\n",
    "print(math.perm(6, 4))"
   ]
  },
  {
   "cell_type": "code",
   "execution_count": 69,
   "id": "0760abe0",
   "metadata": {},
   "outputs": [
    {
     "name": "stdout",
     "output_type": "stream",
     "text": [
      "24\n",
      "24\n"
     ]
    }
   ],
   "source": [
    "#math.prod(iterable, *, start=1) returns the calculate the produc of all elements in the input iterable.\n",
    "numbers = [1, 2, 3, 4]\n",
    "print(math.prod(numbers))\n",
    "print(math.prod(numbers,start=1))"
   ]
  },
  {
   "cell_type": "code",
   "execution_count": 70,
   "id": "ccd9bee7",
   "metadata": {},
   "outputs": [
    {
     "data": {
      "text/plain": [
       "3.0"
      ]
     },
     "execution_count": 70,
     "metadata": {},
     "output_type": "execute_result"
    }
   ],
   "source": [
    "#math.log2(x) returns the base-2 logarithm of x.\n",
    "math.log2(8)"
   ]
  },
  {
   "cell_type": "code",
   "execution_count": 71,
   "id": "9f556120",
   "metadata": {},
   "outputs": [
    {
     "data": {
      "text/plain": [
       "2.0"
      ]
     },
     "execution_count": 71,
     "metadata": {},
     "output_type": "execute_result"
    }
   ],
   "source": [
    "#math.log10(x) returns the base-10 logarithm of x\n",
    "math.log10(100)"
   ]
  },
  {
   "cell_type": "code",
   "execution_count": 72,
   "id": "077e9e73",
   "metadata": {},
   "outputs": [
    {
     "data": {
      "text/plain": [
       "81.0"
      ]
     },
     "execution_count": 72,
     "metadata": {},
     "output_type": "execute_result"
    }
   ],
   "source": [
    "#math.pow(x,y) returns the values of x raised to the power y.\n",
    "math.pow(3,4)"
   ]
  },
  {
   "cell_type": "code",
   "execution_count": 73,
   "id": "bc186c4d",
   "metadata": {},
   "outputs": [
    {
     "data": {
      "text/plain": [
       "4.0"
      ]
     },
     "execution_count": 73,
     "metadata": {},
     "output_type": "execute_result"
    }
   ],
   "source": [
    "#math.sqrt(x) returns the square root of x\n",
    "math.sqrt(16)"
   ]
  },
  {
   "cell_type": "code",
   "execution_count": 74,
   "id": "1a87ec72",
   "metadata": {},
   "outputs": [
    {
     "name": "stdout",
     "output_type": "stream",
     "text": [
      "90.0\n"
     ]
    }
   ],
   "source": [
    "#math.asin(x) returns the arc sine of x, in radians.\n",
    "math.asin(0.5)\n",
    "degree=math.degrees(math.asin(1))\n",
    "print(degree)"
   ]
  },
  {
   "cell_type": "code",
   "execution_count": 75,
   "id": "57e9720d",
   "metadata": {},
   "outputs": [
    {
     "name": "stdout",
     "output_type": "stream",
     "text": [
      "5.0\n"
     ]
    }
   ],
   "source": [
    "#math.dist(p,q) returns the distance between p and q\n",
    "p = (1, 2)\n",
    "q = (4, 6)\n",
    "print(math.dist(p, q))"
   ]
  },
  {
   "cell_type": "code",
   "execution_count": 76,
   "id": "472819d9",
   "metadata": {},
   "outputs": [
    {
     "name": "stdout",
     "output_type": "stream",
     "text": [
      "1.0\n"
     ]
    }
   ],
   "source": [
    "#math.sin(x) returns the sine of x radians.\n",
    "print(math.sin(math.radians(90)))"
   ]
  },
  {
   "cell_type": "code",
   "execution_count": 77,
   "id": "4ded41ed",
   "metadata": {},
   "outputs": [
    {
     "name": "stdout",
     "output_type": "stream",
     "text": [
      "28.64788975654116\n"
     ]
    }
   ],
   "source": [
    "#math.degrees(x) converts angle x from radians to degrees.\n",
    "print(math.degrees(.5))"
   ]
  },
  {
   "cell_type": "code",
   "execution_count": 78,
   "id": "fcf82997",
   "metadata": {},
   "outputs": [
    {
     "name": "stdout",
     "output_type": "stream",
     "text": [
      "0.5235987755982988\n"
     ]
    }
   ],
   "source": [
    "#math.radians(x) converts angle x from degrees to radians.\n",
    "print(math.radians(30))"
   ]
  }
 ],
 "metadata": {
  "kernelspec": {
   "display_name": "Python 3 (ipykernel)",
   "language": "python",
   "name": "python3"
  },
  "language_info": {
   "codemirror_mode": {
    "name": "ipython",
    "version": 3
   },
   "file_extension": ".py",
   "mimetype": "text/x-python",
   "name": "python",
   "nbconvert_exporter": "python",
   "pygments_lexer": "ipython3",
   "version": "3.9.7"
  }
 },
 "nbformat": 4,
 "nbformat_minor": 5
}
